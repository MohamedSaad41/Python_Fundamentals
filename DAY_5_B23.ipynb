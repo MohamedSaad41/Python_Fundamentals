{
 "cells": [
  {
   "cell_type": "code",
   "execution_count": null,
   "metadata": {},
   "outputs": [],
   "source": [
    "#Introduction to looping statements:"
   ]
  },
  {
   "cell_type": "code",
   "execution_count": null,
   "metadata": {},
   "outputs": [],
   "source": [
    "#Req: To greet our friends on festive day\n",
    "Happy festive day"
   ]
  },
  {
   "cell_type": "code",
   "execution_count": 7,
   "metadata": {},
   "outputs": [],
   "source": [
    "friends = ['aquib','rahul','suresh','osayed','ameen']"
   ]
  },
  {
   "cell_type": "code",
   "execution_count": 8,
   "metadata": {},
   "outputs": [
    {
     "name": "stdout",
     "output_type": "stream",
     "text": [
      "Happy festive day, aquib\n"
     ]
    }
   ],
   "source": [
    "print(f\"Happy festive day, {friends[0]}\")"
   ]
  },
  {
   "cell_type": "code",
   "execution_count": 9,
   "metadata": {},
   "outputs": [
    {
     "name": "stdout",
     "output_type": "stream",
     "text": [
      "Happy festive day, suresh\n"
     ]
    }
   ],
   "source": [
    "print(f\"Happy festive day, {friends[2]}\")"
   ]
  },
  {
   "cell_type": "code",
   "execution_count": 10,
   "metadata": {},
   "outputs": [
    {
     "name": "stdout",
     "output_type": "stream",
     "text": [
      "Happy festive day, Rahul\n"
     ]
    }
   ],
   "source": [
    "print(f\"Happy festive day, {friends[1].title()}\")"
   ]
  },
  {
   "cell_type": "code",
   "execution_count": 11,
   "metadata": {},
   "outputs": [
    {
     "name": "stdout",
     "output_type": "stream",
     "text": [
      "Happy festive day, aquib\n",
      "Happy festive day, rahul\n",
      "Happy festive day, suresh\n",
      "Happy festive day, osayed\n",
      "Happy festive day, ameen\n"
     ]
    }
   ],
   "source": [
    "for friends in friends:\n",
    "    print(f\"Happy festive day, {friends}\")"
   ]
  },
  {
   "cell_type": "code",
   "execution_count": null,
   "metadata": {},
   "outputs": [],
   "source": [
    "# general syntax for a loop:\n",
    "\n",
    "for tempvar in mainvar:\n",
    "    print(tempvar)"
   ]
  },
  {
   "cell_type": "code",
   "execution_count": 12,
   "metadata": {},
   "outputs": [
    {
     "name": "stdout",
     "output_type": "stream",
     "text": [
      "Have a great weeeknd ahead, a\n",
      "Have a great weeeknd ahead, m\n",
      "Have a great weeeknd ahead, e\n",
      "Have a great weeeknd ahead, e\n",
      "Have a great weeeknd ahead, n\n"
     ]
    }
   ],
   "source": [
    "for x in friends:\n",
    "    print(f\"Have a great weeeknd ahead, {x}\")"
   ]
  },
  {
   "cell_type": "code",
   "execution_count": null,
   "metadata": {},
   "outputs": [],
   "source": []
  },
  {
   "cell_type": "code",
   "execution_count": 13,
   "metadata": {},
   "outputs": [],
   "source": [
    "students = ['amaan','malik','rastogi','quraish']"
   ]
  },
  {
   "cell_type": "code",
   "execution_count": 18,
   "metadata": {},
   "outputs": [
    {
     "name": "stdout",
     "output_type": "stream",
     "text": [
      "You people belong to batch b2, amaan\n",
      "You people belong to batch b2, malik\n",
      "You people belong to batch b2, rastogi\n",
      "You people belong to batch b2, quraish\n"
     ]
    }
   ],
   "source": [
    "for x in students:\n",
    "    print(f\"You people belong to batch b2, {x}\")"
   ]
  },
  {
   "cell_type": "code",
   "execution_count": 19,
   "metadata": {},
   "outputs": [
    {
     "name": "stdout",
     "output_type": "stream",
     "text": [
      "You people belong to batch b2, Amaan\n",
      "You people belong to batch b2, Malik\n",
      "You people belong to batch b2, Rastogi\n",
      "You people belong to batch b2, Quraish\n"
     ]
    }
   ],
   "source": [
    "for x in students:\n",
    "    print(f\"You people belong to batch b2, {x.title()}\")"
   ]
  },
  {
   "cell_type": "code",
   "execution_count": 20,
   "metadata": {},
   "outputs": [
    {
     "name": "stdout",
     "output_type": "stream",
     "text": [
      "You people belong to batch b2, Amaan\n",
      "Your project title is Tensegrity, Amaan\n",
      "You people belong to batch b2, Malik\n",
      "Your project title is Tensegrity, Malik\n",
      "You people belong to batch b2, Rastogi\n",
      "Your project title is Tensegrity, Rastogi\n",
      "You people belong to batch b2, Quraish\n",
      "Your project title is Tensegrity, Quraish\n"
     ]
    }
   ],
   "source": [
    "for x in students:\n",
    "    print(f\"You people belong to batch b2, {x.title()}\")\n",
    "    print(f\"Your project title is Tensegrity, {x.title()}\")"
   ]
  },
  {
   "cell_type": "code",
   "execution_count": 22,
   "metadata": {},
   "outputs": [
    {
     "name": "stdout",
     "output_type": "stream",
     "text": [
      "You people belong to batch b2,\n",
      "Your project title is Tensegrity, Amaan.\n",
      "\n",
      "You people belong to batch b2,\n",
      "Your project title is Tensegrity, Malik.\n",
      "\n",
      "You people belong to batch b2,\n",
      "Your project title is Tensegrity, Rastogi.\n",
      "\n",
      "You people belong to batch b2,\n",
      "Your project title is Tensegrity, Quraish.\n",
      "\n"
     ]
    }
   ],
   "source": [
    "for x in students:\n",
    "    print(f\"You people belong to batch b2,\")\n",
    "    print(f\"Your project title is Tensegrity, {x.title()}.\\n\")"
   ]
  },
  {
   "cell_type": "code",
   "execution_count": null,
   "metadata": {},
   "outputs": [],
   "source": [
    "#Introduction to organising a list:\n",
    "There are 2 ways\n",
    "1. temp way\n",
    "2. per way"
   ]
  },
  {
   "cell_type": "code",
   "execution_count": 23,
   "metadata": {},
   "outputs": [
    {
     "name": "stdout",
     "output_type": "stream",
     "text": [
      "['amaan', 'malik', 'rastogi', 'quraish']\n"
     ]
    }
   ],
   "source": [
    "print(students)"
   ]
  },
  {
   "cell_type": "code",
   "execution_count": 24,
   "metadata": {},
   "outputs": [
    {
     "name": "stdout",
     "output_type": "stream",
     "text": [
      "['amaan', 'malik', 'quraish', 'rastogi']\n"
     ]
    }
   ],
   "source": [
    "print(sorted(students))"
   ]
  },
  {
   "cell_type": "code",
   "execution_count": 26,
   "metadata": {},
   "outputs": [
    {
     "name": "stdout",
     "output_type": "stream",
     "text": [
      "['amaan', 'malik', 'quraish', 'rastogi']\n"
     ]
    }
   ],
   "source": [
    "students.sort()\n",
    "print(students)"
   ]
  },
  {
   "cell_type": "code",
   "execution_count": 27,
   "metadata": {},
   "outputs": [
    {
     "name": "stdout",
     "output_type": "stream",
     "text": [
      "['amaan', 'malik', 'quraish', 'rastogi']\n"
     ]
    }
   ],
   "source": [
    "print(students)"
   ]
  },
  {
   "cell_type": "code",
   "execution_count": null,
   "metadata": {},
   "outputs": [],
   "source": []
  },
  {
   "cell_type": "code",
   "execution_count": null,
   "metadata": {},
   "outputs": [],
   "source": []
  },
  {
   "cell_type": "code",
   "execution_count": null,
   "metadata": {},
   "outputs": [],
   "source": []
  },
  {
   "cell_type": "code",
   "execution_count": null,
   "metadata": {},
   "outputs": [],
   "source": []
  },
  {
   "cell_type": "code",
   "execution_count": null,
   "metadata": {},
   "outputs": [],
   "source": []
  },
  {
   "cell_type": "code",
   "execution_count": null,
   "metadata": {},
   "outputs": [],
   "source": []
  },
  {
   "cell_type": "code",
   "execution_count": null,
   "metadata": {},
   "outputs": [],
   "source": []
  },
  {
   "cell_type": "code",
   "execution_count": null,
   "metadata": {},
   "outputs": [],
   "source": []
  },
  {
   "cell_type": "code",
   "execution_count": null,
   "metadata": {},
   "outputs": [],
   "source": []
  }
 ],
 "metadata": {
  "kernelspec": {
   "display_name": "Python 3",
   "language": "python",
   "name": "python3"
  },
  "language_info": {
   "codemirror_mode": {
    "name": "ipython",
    "version": 3
   },
   "file_extension": ".py",
   "mimetype": "text/x-python",
   "name": "python",
   "nbconvert_exporter": "python",
   "pygments_lexer": "ipython3",
   "version": "3.7.6"
  }
 },
 "nbformat": 4,
 "nbformat_minor": 4
}
